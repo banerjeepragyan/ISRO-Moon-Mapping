{
 "cells": [
  {
   "cell_type": "code",
   "execution_count": 1,
   "metadata": {},
   "outputs": [],
   "source": [
    "import os, subprocess\n",
    "from subprocess import PIPE"
   ]
  },
  {
   "cell_type": "code",
   "execution_count": null,
   "metadata": {},
   "outputs": [],
   "source": [
    "#path to gdal_merge.py \n",
    "gm = \"./gdal_merge.py\" "
   ]
  },
  {
   "cell_type": "code",
   "execution_count": null,
   "metadata": {},
   "outputs": [],
   "source": [
    "## dir for tiff file\n",
    "dir_for_tifs = \"\"\n",
    "tifs = os.listdir(dir_for_tifs)\n",
    "loctifs = \"\" "
   ]
  },
  {
   "cell_type": "code",
   "execution_count": null,
   "metadata": {},
   "outputs": [],
   "source": [
    "for tif in tifs:\n",
    "    loctifs += \" \" + dir_for_tifs + tif\n",
    "merge_command = \"python \" + gm + \" -of GTiff -ot Int16 -o merged.tif\" + loctifs"
   ]
  },
  {
   "cell_type": "code",
   "execution_count": null,
   "metadata": {},
   "outputs": [],
   "source": [
    "result = subprocess.call(merge_command, stdout=PIPE, stderr=PIPE)"
   ]
  }
 ],
 "metadata": {
  "kernelspec": {
   "display_name": "Python 3 (ipykernel)",
   "language": "python",
   "name": "python3"
  },
  "language_info": {
   "codemirror_mode": {
    "name": "ipython",
    "version": 3
   },
   "file_extension": ".py",
   "mimetype": "text/x-python",
   "name": "python",
   "nbconvert_exporter": "python",
   "pygments_lexer": "ipython3",
   "version": "3.9.13"
  },
  "vscode": {
   "interpreter": {
    "hash": "fdcaf8ad0dbb4c8f295607642e91ba8c2e58bfa0a594ddfcfcd8bde2f0c13837"
   }
  }
 },
 "nbformat": 4,
 "nbformat_minor": 2
}

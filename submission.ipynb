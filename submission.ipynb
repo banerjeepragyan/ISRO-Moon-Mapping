{
 "cells": [
  {
   "cell_type": "markdown",
   "metadata": {
    "id": "YIz_Gm1arXEI"
   },
   "source": [
    "**Submission Notebook**\n",
    "\n",
    "This notebook serves as a guide to run inference on the model."
   ]
  },
  {
   "cell_type": "markdown",
   "metadata": {
    "id": "xEZ_utZowvyg"
   },
   "source": [
    "**Installing and Importing Packages**"
   ]
  },
  {
   "cell_type": "code",
   "execution_count": null,
   "metadata": {
    "colab": {
     "base_uri": "https://localhost:8080/"
    },
    "id": "jgtZj77Cvw42",
    "outputId": "b40fdd77-b053-4e2e-ff10-1ce30f7c7f5a"
   },
   "outputs": [],
   "source": [
    "!pip install patchify\n",
    "!pip install cv2\n",
    "\n",
    "import os\n",
    "import matplotlib.pyplot as plt\n",
    "import cv2 as cv\n",
    "import numpy as np\n",
    "from PIL import Image\n",
    "import zipfile\n",
    "from skimage.measure import block_reduce\n",
    "from patchify import patchify\n",
    "from patchify import unpatchify\n",
    "from xml.dom.minidom import parse\n",
    "import re\n",
    "from PIL import Image\n",
    "from google.colab.patches import cv2_imsho"
   ]
  },
  {
   "cell_type": "markdown",
   "metadata": {
    "id": "TR8PA3hkxhbt"
   },
   "source": [
    "**Defining Useful Variables**"
   ]
  },
  {
   "cell_type": "code",
   "execution_count": null,
   "metadata": {
    "id": "fC-6dxJmxlWV"
   },
   "outputs": [],
   "source": [
    "INPUT_DIR = os.path.join(os.getcwd(), 'tmc_input')\n",
    "print(INPUT_DIR)\n",
    "filename = \"tmc_ch2\"\n",
    "PATCH_SIZE = 16\n",
    "DOWNSAMPLE_RES = 4\n",
    "SAMPLE_METHOD = \"bicubic\"\n",
    "num_im = 1"
   ]
  },
  {
   "cell_type": "markdown",
   "metadata": {
    "id": "jKdXsgVoxAfk"
   },
   "source": [
    "**Defining Functions**"
   ]
  },
  {
   "cell_type": "code",
   "execution_count": null,
   "metadata": {
    "id": "JboksJQvw8MU"
   },
   "outputs": [],
   "source": [
    "def get_shape(xml_filename):\n",
    "    dom = parse(xml_filename)\n",
    "    name = dom.getElementsByTagName('elements')\n",
    "    print (name[0].firstChild.nodeValue)\n",
    "    print (name[1].firstChild.nodeValue)\n",
    "    return (int(name[0].firstChild.nodeValue), int(name[1].firstChild.nodeValue))\n",
    "\n",
    "def check2(im):\n",
    "    k=0\n",
    "    for i in range(1, 64):\n",
    "        for j in range(1, 64):\n",
    "            if im[i][j]==255:\n",
    "                k+=1\n",
    "    return k\n",
    "\n",
    "def get_patches(image):\n",
    "    patches = patchify(image, (PATCH_SIZE,PATCH_SIZE), step=PATCH_SIZE)\n",
    "    print(patches.shape)\n",
    "    return patches\n",
    "\n",
    "def isValid(img, x=0.9):\n",
    "    return (np.corrcoef(cv.medianBlur(img, 3).ravel(), img.ravel())[0][1] > x)\n",
    "\n",
    "def is_monochromatic_image(img):\n",
    "    extr = Image.fromarray(img).getextrema()\n",
    "    a = 0\n",
    "    for i in extr:\n",
    "        if isinstance(i, tuple):\n",
    "            a += abs(i[0] - i[1])\n",
    "        else:\n",
    "            a = abs(extr[0] - extr[1])\n",
    "            break\n",
    "    return a == 0\n",
    "\n",
    "def save(patches):\n",
    "    num_im=0\n",
    "    path = INPUT_DIR + \"patches\"\n",
    "    isExist = os.path.exists(path)\n",
    "    if not isExist:\n",
    "        os.makedirs(path)\n",
    "    for i in range(patches.shape[0]):\n",
    "        for j in range(3, patches.shape[1]):\n",
    "            if not(is_monochromatic_image(patches[i][j])):\n",
    "                plt.imsave(path + f\"{i}_{j}.png\", patches[i][j]*255, cmap='gray')\n",
    "                num_im += 1\n",
    "    print('Done')\n",
    "\n",
    "def get_noises(patches):\n",
    "    patch_noise = []\n",
    "\n",
    "    for i in range(patches.shape[0]):\n",
    "        patch_noise.append([])\n",
    "        for j in range(patches.shape[1]):\n",
    "            patch_noise[-1].append(np.corrcoef(cv.medianBlur(patches[i][j], 3).ravel(),patches[i][j].ravel())[0][1])\n",
    "    return patch_noise\n",
    "\n",
    "def show_plots(patches):\n",
    "    noises = get_noises(patches)\n",
    "    noises = np.array(noises)\n",
    "\n",
    "    plt.subplot(2, 1, 1)\n",
    "    plt.hist(noises)\n",
    "    plt.title('Patch Noises')\n",
    "\n",
    "    plt.subplot(2, 1, 2)\n",
    "    plt.imshow(noises,  cmap='hot', interpolation='nearest')\n",
    "\n",
    "    plt.show()"
   ]
  },
  {
   "cell_type": "code",
   "execution_count": null,
   "metadata": {
    "colab": {
     "base_uri": "https://localhost:8080/",
     "height": 235
    },
    "id": "rL5f9mkySOLj",
    "outputId": "a314c857-89a5-4fc1-aa27-78d1107fec53"
   },
   "outputs": [],
   "source": [
    "input_image = filename + '.tif'\n",
    "image_path = os.path.join(INPUT_DIR, input_image)\n",
    "print(image_path)\n",
    "img = cv.imread(input_image, -1)\n",
    "image = np.asarray(img)\n",
    "print(img.shape)\n",
    "patches = get_patches(image)\n",
    "save(patches)\n",
    "plt.imshow(img, cmap = \"gray\")\n",
    "plt.show()            "
   ]
  },
  {
   "cell_type": "markdown",
   "metadata": {
    "id": "KBS6I0z03-lQ"
   },
   "source": [
    "**Creating High Resolution Images Out of the Patches**"
   ]
  },
  {
   "cell_type": "markdown",
   "metadata": {
    "id": "ucZW9_9nCN5W"
   },
   "source": [
    "Writing on some files"
   ]
  },
  {
   "cell_type": "code",
   "execution_count": null,
   "metadata": {
    "colab": {
     "base_uri": "https://localhost:8080/"
    },
    "id": "2LQWJ36ACRG-",
    "outputId": "1190c0c4-d0e9-4d52-dcf4-b428d5e66bbb"
   },
   "outputs": [],
   "source": [
    "%%writefile /content/HAT/options/test/HAT-L_SRx16_config.yml\n",
    "\n",
    "name: HAT-L_SRx16\n",
    "model_type: HATModel\n",
    "scale: 16\n",
    "num_gpu: 1  # set num_gpu: 0 for cpu mode\n",
    "manual_seed: 0\n",
    "\n",
    "datasets:\n",
    "  test_1:  # the 1st test dataset\n",
    "    name: ISRO\n",
    "    type: PairedImageDataset\n",
    "    dataroot_gt: /content/drive/MyDrive/Test_Patches # PUT HR IMGS FOLDER PATH HERE\n",
    "    dataroot_lq: /content/drive/MyDrive/Test_Patches # PUT LR IMGS FOLDER PATH HERE\n",
    "    io_backend:\n",
    "      type: disk\n",
    "\n",
    "  # test_2:  # the 2nd test dataset\n",
    "  #   name: Set14\n",
    "  #   type: PairedImageDataset\n",
    "  #   dataroot_gt: ./datasets/Set14/GTmod4\n",
    "  #   dataroot_lq: ./datasets/Set14/LRbicx4\n",
    "  #   io_backend:\n",
    "  #     type: disk\n",
    "\n",
    "  # test_3:\n",
    "  #   name: Urban100\n",
    "  #   type: PairedImageDataset\n",
    "  #   dataroot_gt: ./datasets/urban100/GTmod4\n",
    "  #   dataroot_lq: ./datasets/urban100/LRbicx4\n",
    "  #   io_backend:\n",
    "  #     type: disk\n",
    "\n",
    "  # test_4:\n",
    "  #    name: BSDS100\n",
    "  #    type: PairedImageDataset\n",
    "  #    dataroot_gt: ./datasets/BSDS100/GTmod4\n",
    "  #    dataroot_lq: ./datasets/BSDS100/LRbicx4\n",
    "  #    io_backend:\n",
    "  #      type: disk\n",
    "\n",
    "  # test_5:\n",
    "  #     name: Manga109\n",
    "  #     type: PairedImageDataset\n",
    "  #     dataroot_gt: ./datasets/manga109/GTmod4\n",
    "  #     dataroot_lq: ./datasets/manga109/LRbicx4\n",
    "  #     io_backend:\n",
    "  #       type: disk\n",
    "\n",
    "# network structures\n",
    "network_g:\n",
    "  type: HAT\n",
    "  upscale: 16\n",
    "  in_chans: 3\n",
    "  img_size: 16\n",
    "  window_size: 4\n",
    "  compress_ratio: 3\n",
    "  squeeze_factor: 30\n",
    "  conv_scale: 0.01\n",
    "  overlap_ratio: 0.5\n",
    "  img_range: 1.\n",
    "  depths: [6, 6, 6, 6, 6, 6, 6, 6, 6, 6, 6, 6]\n",
    "  embed_dim: 180\n",
    "  num_heads: [6, 6, 6, 6, 6, 6, 6, 6, 6, 6, 6, 6]\n",
    "  mlp_ratio: 2\n",
    "  upsampler: 'pixelshuffle'\n",
    "  resi_connection: '1conv'\n",
    "\n",
    "\n",
    "# path\n",
    "path:\n",
    "  pretrain_network_g: # PUT MODEL PATH HERE\n",
    "  strict_load_g: true\n",
    "  param_key_g: 'params_ema'\n",
    "\n",
    "# validation settings\n",
    "val:\n",
    "  save_img: true\n",
    "  suffix: ~  # add suffix to saved images, if None, use exp name\n",
    "\n",
    "  metrics:\n",
    "    psnr: # metric name, can be arbitrary\n",
    "      type: calculate_psnr\n",
    "      crop_border: 4\n",
    "      test_y_channel: true\n",
    "    ssim:\n",
    "      type: calculate_ssim\n",
    "      crop_border: 4\n",
    "      test_y_channel: true\n"
   ]
  },
  {
   "cell_type": "markdown",
   "metadata": {
    "id": "A3hKwNnYCtcO"
   },
   "source": [
    "Testing"
   ]
  },
  {
   "cell_type": "code",
   "execution_count": null,
   "metadata": {
    "colab": {
     "base_uri": "https://localhost:8080/"
    },
    "id": "6EMcHlCnCmze",
    "outputId": "c1f4095a-ca9e-4c46-d2f7-099ecd18e669"
   },
   "outputs": [],
   "source": [
    "!python /content/HAT/hat/test.py -opt /content/HAT/options/test/HAT-L_SRx16_config.yml"
   ]
  },
  {
   "cell_type": "markdown",
   "metadata": {
    "id": "mNKdOI_N25QP"
   },
   "source": [
    "**Joining the Patches Back**"
   ]
  },
  {
   "cell_type": "code",
   "execution_count": null,
   "metadata": {
    "id": "QXD9Iis329qp"
   },
   "outputs": [],
   "source": [
    "path = os.path.join(os.getcwd(), 'HAT/results/HAT-L_SRx16/visualization/ISRO/')\n",
    "print(path)\n",
    "rec_arr = np.empty((int(patches.shape[0]), int(patches.shape[1]), PATCH_SIZE, PATCH_SIZE))\n",
    "for file_name in os.listdir(path):\n",
    "    file = path + file_name\n",
    "    if os.path.isfile(file):\n",
    "        temp = re.findall(r'\\d+', file_name)\n",
    "        res = list(map(int, temp))\n",
    "        rec_arr[int(res[0])][int(res[1])] = cv.imread(file)[:,:,0]"
   ]
  },
  {
   "cell_type": "code",
   "execution_count": null,
   "metadata": {
    "colab": {
     "base_uri": "https://localhost:8080/",
     "height": 269
    },
    "id": "pom7h2uy3L8m",
    "outputId": "e8b13f59-385c-400d-ae46-91c9aa13f3b3"
   },
   "outputs": [],
   "source": [
    "rec_im = unpatchify(patches, (patches.shape[0]*PATCH_SIZE, patches.shape[1]*PATCH_SIZE))\n",
    "plt.imshow(rec_im, cmap = \"gray\")\n",
    "plt.show()\n",
    "output_path = os.path.join(os.getcwd(), 'upscaled_output')\n",
    "print(output_path)\n",
    "plt.imsave('/content/gdrive/MyDrive/joined.png', rec_im, cmap='gray')"
   ]
  },
  {
   "cell_type": "markdown",
   "metadata": {
    "id": "G6C5wjhdGq4U"
   },
   "source": [
    "**Converting the upsampled .png to .tif file**"
   ]
  },
  {
   "cell_type": "code",
   "execution_count": null,
   "metadata": {
    "id": "AlLw2KgJGhrq"
   },
   "outputs": [],
   "source": [
    "import gdal\n",
    "import subprocess\n",
    "from subprocess import PIPE\n",
    "from bs4 import BeautifulSoup"
   ]
  },
  {
   "cell_type": "code",
   "execution_count": null,
   "metadata": {
    "id": "ObReW3KXHBwW"
   },
   "outputs": [],
   "source": [
    "XML_PATH = INPUT_PATH + INPUT\n",
    "OUTPUT_IMG_NAME = \"output\""
   ]
  },
  {
   "cell_type": "code",
   "execution_count": null,
   "metadata": {
    "colab": {
     "base_uri": "https://localhost:8080/",
     "height": 235
    },
    "id": "I8rO0i3YHN6i",
    "outputId": "63641e8e-3716-492a-96d1-6567fe88bb4e"
   },
   "outputs": [],
   "source": [
    "with open(f\"{XML_PATH+'.xml'}\", 'r') as f:\n",
    "    data = f.read()\n",
    "Bs_data = BeautifulSoup(data, \"xml\")\n",
    "data = Bs_data.find_all('Axis_Array')\n",
    "for item in data:\n",
    "    if item.axis_name.string == 'Line':\n",
    "        height = int(item.elements.string)*16\n",
    "    if item.axis_name.string == 'Sample':\n",
    "        width = int(item.elements.string)*16\n",
    "data = Bs_data.find('isda:Corrected_Corner_Coordinates').find_all()\n",
    "lats, longs = [], []\n",
    "for index, item in enumerate(data):\n",
    "    if index%2:\n",
    "        longs.append(float(item.string))\n",
    "    else:\n",
    "        lats.append(float(item.string))"
   ]
  },
  {
   "cell_type": "code",
   "execution_count": null,
   "metadata": {
    "id": "Ks_SNIkPKMyR"
   },
   "outputs": [],
   "source": [
    "result = subprocess.run(f\"gdal_translate -ot Int16 -of GTiff -a_srs .\\wkt.prj -gcp 0 0 {longs[0]} {lats[0]} -gcp {width} 0 {longs[1]} {lats[1]} -gcp 0 {height} {longs[2]} {lats[2]} -gcp {width} {height} {longs[3]} {lats[3]} {input_img_name+'.png'} {output_img_name+'.tif'}\", stdout=PIPE, stderr=PIPE)"
   ]
  },
  {
   "cell_type": "code",
   "execution_count": null,
   "metadata": {
    "id": "ad75tc6AJMI0"
   },
   "outputs": [],
   "source": [
    "print(result.stdout)"
   ]
  }
 ],
 "metadata": {
  "accelerator": "GPU",
  "colab": {
   "provenance": []
  },
  "gpuClass": "standard",
  "kernelspec": {
   "display_name": "Python 3 (ipykernel)",
   "language": "python",
   "name": "python3"
  },
  "language_info": {
   "codemirror_mode": {
    "name": "ipython",
    "version": 3
   },
   "file_extension": ".py",
   "mimetype": "text/x-python",
   "name": "python",
   "nbconvert_exporter": "python",
   "pygments_lexer": "ipython3",
   "version": "3.9.13"
  }
 },
 "nbformat": 4,
 "nbformat_minor": 1
}
